{
  "nbformat": 4,
  "nbformat_minor": 0,
  "metadata": {
    "colab": {
      "provenance": []
    },
    "kernelspec": {
      "name": "python3",
      "display_name": "Python 3"
    },
    "language_info": {
      "name": "python"
    }
  },
  "cells": [
    {
      "cell_type": "code",
      "execution_count": 1,
      "metadata": {
        "id": "koSMPnWxJoKq",
        "outputId": "d5dfcd23-bcd6-4daa-9f38-6552591e0915",
        "colab": {
          "base_uri": "https://localhost:8080/"
        }
      },
      "outputs": [
        {
          "output_type": "stream",
          "name": "stdout",
          "text": [
            "太郎 さんは大人です。\n",
            "花子 さんは大人ではありません。\n",
            "次郎 さんは大人です。\n",
            "三郎 さんは大人ではありません。\n"
          ]
        }
      ],
      "source": [
        "class Human:\n",
        "    def __init__(self, name, age):\n",
        "        self.name = name\n",
        "        self.age = age\n",
        "\n",
        "    def check_adult(self):\n",
        "        if self.age >= 20:\n",
        "            print(f\"{self.name} さんは大人です。\")\n",
        "        else:\n",
        "            print(f\"{self.name} さんは大人ではありません。\")\n",
        "\n",
        "\n",
        "# Humanクラスのインスタンスを複数生成\n",
        "people = [\n",
        "    Human(\"太郎\", 25),\n",
        "    Human(\"花子\", 18),\n",
        "    Human(\"次郎\", 20),\n",
        "    Human(\"三郎\", 15)\n",
        "]\n",
        "\n",
        "# リストの要素数分だけ check_adult メソッドを呼び出し\n",
        "for person in people:\n",
        "    person.check_adult()\n"
      ]
    }
  ]
}