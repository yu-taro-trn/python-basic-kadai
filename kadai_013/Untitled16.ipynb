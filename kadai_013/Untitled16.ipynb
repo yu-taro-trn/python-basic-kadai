{
  "nbformat": 4,
  "nbformat_minor": 0,
  "metadata": {
    "colab": {
      "provenance": []
    },
    "kernelspec": {
      "name": "python3",
      "display_name": "Python 3"
    },
    "language_info": {
      "name": "python"
    }
  },
  "cells": [
    {
      "cell_type": "code",
      "execution_count": 4,
      "metadata": {
        "colab": {
          "base_uri": "https://localhost:8080/"
        },
        "id": "vnXjPQvrSpny",
        "outputId": "f5d9d79b-ea99-4872-9151-13b5e63aba1e"
      },
      "outputs": [
        {
          "output_type": "stream",
          "name": "stdout",
          "text": [
            "121.0\n"
          ]
        }
      ],
      "source": [
        "def calculation(price, tax):\n",
        "  total = price + price*(tax/100)\n",
        "\n",
        "  return total\n",
        "\n",
        "print(calculation(110, 10))"
      ]
    }
  ]
}